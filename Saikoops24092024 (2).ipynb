{
  "nbformat": 4,
  "nbformat_minor": 0,
  "metadata": {
    "colab": {
      "provenance": []
    },
    "kernelspec": {
      "name": "python3",
      "display_name": "Python 3"
    },
    "language_info": {
      "name": "python"
    }
  },
  "cells": [
    {
      "cell_type": "markdown",
      "source": [
        "Q1.  What are the five key concepts of Object-Oriented Programming (OOP)?\n",
        "Sol. 1)Data abstraction: Representing essential features without background details\n",
        "2) Data Encapsulation: Wrapping of data and associated function in one unit\n",
        "3) Inheritence Capability of one class to inherit properties from other class\n",
        "4) polymorphism: ability for data to be processed in more than one form\n",
        "5) Modularity: Breaking down program into several modules."
      ],
      "metadata": {
        "id": "YNuhutsz2Fgm"
      }
    },
    {
      "cell_type": "markdown",
      "source": [
        "Q2.Write a Python class for a `Car` with attributes for `make`, `model`, and `year`. Include a method to display\n",
        "the car's information."
      ],
      "metadata": {
        "id": "c2Sh2BWd4EOm"
      }
    },
    {
      "cell_type": "code",
      "source": [
        "class car:\n",
        "  def __init__(self,make,model,year):\n",
        "    self.make=make\n",
        "    self.model=model\n",
        "    self.year=year\n",
        "\n",
        "vw=car(\"polo\",\"gt\",2010)\n",
        "def info(car):\n",
        "    print(f\"the cars make is {car.make} and year is {car.year}\")\n",
        "\n",
        "info(vw)\n"
      ],
      "metadata": {
        "colab": {
          "base_uri": "https://localhost:8080/"
        },
        "id": "agKslf344LSu",
        "outputId": "d2289d28-d53e-4d60-c0fa-5d929c1a9222"
      },
      "execution_count": null,
      "outputs": [
        {
          "output_type": "stream",
          "name": "stdout",
          "text": [
            "the cars make is polo and year is 2010\n"
          ]
        }
      ]
    },
    {
      "cell_type": "markdown",
      "source": [
        "Q3.  Explain the difference between instance methods and class methods. Provide an example of each.\n",
        "  \n",
        "Soln.Instance: based on object of class, that can access and modify both class and instance variable.\n",
        "Class method: Only class variable accessible, and is bound to the class.\n"
      ],
      "metadata": {
        "id": "6jaujGEf6pSn"
      }
    },
    {
      "cell_type": "code",
      "source": [
        "#instance method\n",
        "class inst:\n",
        "    def __init__(self,name):\n",
        "      self.name=name\n",
        "\n",
        "    def introduce(self):\n",
        "      print(f\"hello i am {self}, my name is {self.name}\",self,self.name)\n",
        "\n",
        "myinst=inst(\"insurance\")\n",
        "otherinst=inst(\"other inst\")\n",
        "myinst.introduce()\n",
        "otherinst.introduce()\n",
        "\n",
        "print(\".........................................\")\n",
        "# class method\n",
        "class cls:\n",
        "   @classmethod\n",
        "   def introduce(cls):\n",
        "      print(\"hello, i m {cls}\",cls)\n",
        "\n",
        "cls.introduce()\n"
      ],
      "metadata": {
        "colab": {
          "base_uri": "https://localhost:8080/"
        },
        "id": "xbSPzUe-dH3t",
        "outputId": "7b4505a8-5882-412c-9f54-e24c6979ffd1"
      },
      "execution_count": null,
      "outputs": [
        {
          "output_type": "stream",
          "name": "stdout",
          "text": [
            "hello i am <__main__.inst object at 0x7fbbd75af490>, my name is insurance <__main__.inst object at 0x7fbbd75af490> insurance\n",
            "hello i am <__main__.inst object at 0x7fbbd75af250>, my name is other inst <__main__.inst object at 0x7fbbd75af250> other inst\n",
            ".........................................\n",
            "hello, i m {cls} <class '__main__.cls'>\n"
          ]
        }
      ]
    },
    {
      "cell_type": "markdown",
      "source": [
        "Q4.  How does Python implement method overloading? Give an example."
      ],
      "metadata": {
        "id": "b8y3TTRJjUvf"
      }
    },
    {
      "cell_type": "code",
      "source": [
        " class addition:\n",
        "  def add(self,x,y):\n",
        "    return x+y\n",
        "  def add(self,x,y,z):\n",
        "    return x+y+z\n",
        "o1=addition()\n",
        "print(\"addition of 3 nos is \", o1.add(1,2,3)) # will be executed\n",
        "print(\"addition of 2 nos is \",o1.add(4,5))  # wont be executed\n",
        "# python considers only latest definition of add(), ignoring previous definition.\n"
      ],
      "metadata": {
        "colab": {
          "base_uri": "https://localhost:8080/",
          "height": 193
        },
        "id": "ONoJu78_japL",
        "outputId": "cd42d054-b051-418e-b81f-9665dcdecc3b"
      },
      "execution_count": null,
      "outputs": [
        {
          "output_type": "stream",
          "name": "stdout",
          "text": [
            "addition of 3 nos is  6\n"
          ]
        },
        {
          "output_type": "error",
          "ename": "TypeError",
          "evalue": "addition.add() missing 1 required positional argument: 'z'",
          "traceback": [
            "\u001b[0;31m---------------------------------------------------------------------------\u001b[0m",
            "\u001b[0;31mTypeError\u001b[0m                                 Traceback (most recent call last)",
            "\u001b[0;32m<ipython-input-15-30c9302ca150>\u001b[0m in \u001b[0;36m<cell line: 8>\u001b[0;34m()\u001b[0m\n\u001b[1;32m      6\u001b[0m \u001b[0mo1\u001b[0m\u001b[0;34m=\u001b[0m\u001b[0maddition\u001b[0m\u001b[0;34m(\u001b[0m\u001b[0;34m)\u001b[0m\u001b[0;34m\u001b[0m\u001b[0;34m\u001b[0m\u001b[0m\n\u001b[1;32m      7\u001b[0m \u001b[0mprint\u001b[0m\u001b[0;34m(\u001b[0m\u001b[0;34m\"addition of 3 nos is \"\u001b[0m\u001b[0;34m,\u001b[0m \u001b[0mo1\u001b[0m\u001b[0;34m.\u001b[0m\u001b[0madd\u001b[0m\u001b[0;34m(\u001b[0m\u001b[0;36m1\u001b[0m\u001b[0;34m,\u001b[0m\u001b[0;36m2\u001b[0m\u001b[0;34m,\u001b[0m\u001b[0;36m3\u001b[0m\u001b[0;34m)\u001b[0m\u001b[0;34m)\u001b[0m\u001b[0;34m\u001b[0m\u001b[0;34m\u001b[0m\u001b[0m\n\u001b[0;32m----> 8\u001b[0;31m \u001b[0mprint\u001b[0m\u001b[0;34m(\u001b[0m\u001b[0;34m\"addiion of 2 nos is \"\u001b[0m\u001b[0;34m,\u001b[0m\u001b[0mo1\u001b[0m\u001b[0;34m.\u001b[0m\u001b[0madd\u001b[0m\u001b[0;34m(\u001b[0m\u001b[0;36m4\u001b[0m\u001b[0;34m,\u001b[0m\u001b[0;36m5\u001b[0m\u001b[0;34m)\u001b[0m\u001b[0;34m)\u001b[0m\u001b[0;34m\u001b[0m\u001b[0;34m\u001b[0m\u001b[0m\n\u001b[0m",
            "\u001b[0;31mTypeError\u001b[0m: addition.add() missing 1 required positional argument: 'z'"
          ]
        }
      ]
    },
    {
      "cell_type": "markdown",
      "source": [
        "Q 5. What are the three types of access modifiers in Python? How are they denoted?\n",
        "Soln. Protected access modifier: Protected method and fields can be accessed within same class it is declared and its subclass.\n",
        "Public access modifier: theoretically public methods and field can be accesses directly by any class.\n",
        "Private access modifier: Private method and fields can be only accesses within same class it is declared.\n"
      ],
      "metadata": {
        "id": "ntBzDNqMlsbL"
      }
    },
    {
      "cell_type": "code",
      "source": [
        "class myclass:   # public access modifier\n",
        "  def __init__(self):\n",
        "    self.publicvar=\"i am public variable\"\n",
        "\n",
        "  def publicmethod(self):\n",
        "    print(\"this is public method\")\n",
        "\n",
        "obj=myclass()\n",
        "print(obj.publicvar)\n",
        "obj.publicmethod\n",
        "\n",
        "print(\".............................\") # privateaccess modifier\n",
        "class myclass:\n",
        "  def __init__(self):\n",
        "   self.__privatevar=\"i am private var\"\n",
        "\n",
        "  def __privatemethod(self):\n",
        "    print(\"i m private method\")\n",
        "\n",
        "  obj=myclass()  # error\n",
        "  print(obj.__privatevar)  # error\n",
        "  obj.__privatemethod()   #error"
      ],
      "metadata": {
        "colab": {
          "base_uri": "https://localhost:8080/",
          "height": 349
        },
        "id": "pv2_vDgZs6de",
        "outputId": "9f546d09-9b46-4c37-bc5e-191a1f956bb9"
      },
      "execution_count": null,
      "outputs": [
        {
          "output_type": "stream",
          "name": "stdout",
          "text": [
            "i am public variable\n",
            ".............................\n"
          ]
        },
        {
          "output_type": "error",
          "ename": "AttributeError",
          "evalue": "'myclass' object has no attribute '_myclass__privatevar'",
          "traceback": [
            "\u001b[0;31m---------------------------------------------------------------------------\u001b[0m",
            "\u001b[0;31mAttributeError\u001b[0m                            Traceback (most recent call last)",
            "\u001b[0;32m<ipython-input-20-596e64f7f698>\u001b[0m in \u001b[0;36m<cell line: 13>\u001b[0;34m()\u001b[0m\n\u001b[1;32m     11\u001b[0m \u001b[0;34m\u001b[0m\u001b[0m\n\u001b[1;32m     12\u001b[0m \u001b[0mprint\u001b[0m\u001b[0;34m(\u001b[0m\u001b[0;34m\".............................\"\u001b[0m\u001b[0;34m)\u001b[0m\u001b[0;34m\u001b[0m\u001b[0;34m\u001b[0m\u001b[0m\n\u001b[0;32m---> 13\u001b[0;31m \u001b[0;32mclass\u001b[0m \u001b[0mmyclass\u001b[0m\u001b[0;34m:\u001b[0m\u001b[0;34m\u001b[0m\u001b[0;34m\u001b[0m\u001b[0m\n\u001b[0m\u001b[1;32m     14\u001b[0m   \u001b[0;32mdef\u001b[0m \u001b[0m__init__\u001b[0m\u001b[0;34m(\u001b[0m\u001b[0mself\u001b[0m\u001b[0;34m)\u001b[0m\u001b[0;34m:\u001b[0m\u001b[0;34m\u001b[0m\u001b[0;34m\u001b[0m\u001b[0m\n\u001b[1;32m     15\u001b[0m    \u001b[0mself\u001b[0m\u001b[0;34m.\u001b[0m\u001b[0m__privatevar\u001b[0m\u001b[0;34m=\u001b[0m\u001b[0;34m\"i am private var\"\u001b[0m\u001b[0;34m\u001b[0m\u001b[0;34m\u001b[0m\u001b[0m\n",
            "\u001b[0;32m<ipython-input-20-596e64f7f698>\u001b[0m in \u001b[0;36mmyclass\u001b[0;34m()\u001b[0m\n\u001b[1;32m     19\u001b[0m \u001b[0;34m\u001b[0m\u001b[0m\n\u001b[1;32m     20\u001b[0m   \u001b[0mobj\u001b[0m\u001b[0;34m=\u001b[0m\u001b[0mmyclass\u001b[0m\u001b[0;34m(\u001b[0m\u001b[0;34m)\u001b[0m\u001b[0;34m\u001b[0m\u001b[0;34m\u001b[0m\u001b[0m\n\u001b[0;32m---> 21\u001b[0;31m   \u001b[0mprint\u001b[0m\u001b[0;34m(\u001b[0m\u001b[0mobj\u001b[0m\u001b[0;34m.\u001b[0m\u001b[0m__privatevar\u001b[0m\u001b[0;34m)\u001b[0m\u001b[0;34m\u001b[0m\u001b[0;34m\u001b[0m\u001b[0m\n\u001b[0m\u001b[1;32m     22\u001b[0m   \u001b[0mobj\u001b[0m\u001b[0;34m.\u001b[0m\u001b[0m__privatemethod\u001b[0m\u001b[0;34m(\u001b[0m\u001b[0;34m)\u001b[0m\u001b[0;34m\u001b[0m\u001b[0;34m\u001b[0m\u001b[0m\n",
            "\u001b[0;31mAttributeError\u001b[0m: 'myclass' object has no attribute '_myclass__privatevar'"
          ]
        }
      ]
    },
    {
      "cell_type": "markdown",
      "source": [
        "Q 6.  6. Describe the five types of inheritance in Python. Provide a simple example of multiple inheritance.\n",
        "\n",
        "\n",
        "Soln. Single inheritence :Enables derived class to inherit properties from single parent class\n",
        "Multiple interitrance: Class derived from more than one base class\n",
        "Multilevel inheritence: Features of base class and derived class are further inherited into new derived class.\n",
        "Hierarchical inheritance: More than one derived class created from single base.\n",
        "Hyubrid inheritance: Inheritance containing multiple types of inheritance.\n"
      ],
      "metadata": {
        "id": "HR8u3NYQzI_D"
      }
    },
    {
      "cell_type": "code",
      "source": [
        "# multiple inheritence\n",
        "class Mother:\n",
        "  mothername=\"m1\"\n",
        "\n",
        "  def mother(self):\n",
        "    print(self.mothername)\n",
        "\n",
        "class Father:\n",
        "  fathername=\"f1\"\n",
        "  def father(self):\n",
        "    print(self.fathername)\n",
        "\n",
        "class os(Mother,Father):\n",
        "  def parents(self):\n",
        "    print(\"father:\", self.fathername)\n",
        "    print(\"mother:\", self.mothername)\n",
        "s1=os()\n",
        "s1.fathername=\"RAM\"\n",
        "s1.mothername=\"sita\"\n",
        "s1.parents()"
      ],
      "metadata": {
        "colab": {
          "base_uri": "https://localhost:8080/"
        },
        "id": "szm2U0Kx446a",
        "outputId": "6de64cc5-b12f-4d54-8dfb-2f617683fe2b"
      },
      "execution_count": null,
      "outputs": [
        {
          "output_type": "stream",
          "name": "stdout",
          "text": [
            "father: RAM\n",
            "mother: sita\n"
          ]
        }
      ]
    },
    {
      "cell_type": "markdown",
      "source": [
        "Q 7.  What is the Method Resolution Order (MRO) in Python? How can you retrieve it programmatically?\n",
        "\n",
        "Soln. MRO is the order in which python looks for a method in hierarchy of classes."
      ],
      "metadata": {
        "id": "5u1vSnIf7KjD"
      }
    },
    {
      "cell_type": "code",
      "source": [
        "# MRO example\n",
        "class A:\n",
        "  def process(self):\n",
        "    print(\"A process()\")\n",
        "\n",
        "class B:\n",
        "  def process(self):\n",
        "      print(\"just B\")\n",
        "\n",
        "class C(A,B):\n",
        "   #def process(self):\n",
        "    #print(\"A and B\")\n",
        "    pass\n",
        "\n",
        "obj=C()\n",
        "obj.process()"
      ],
      "metadata": {
        "colab": {
          "base_uri": "https://localhost:8080/"
        },
        "id": "Hk7oWXZu-4Lz",
        "outputId": "65416c79-ea16-4e04-997d-ea91156b3d90"
      },
      "execution_count": null,
      "outputs": [
        {
          "output_type": "stream",
          "name": "stdout",
          "text": [
            "A process()\n"
          ]
        }
      ]
    },
    {
      "cell_type": "markdown",
      "source": [
        "Q 8.Create an abstract base class `Shape` with an abstract method `area()`. Then create two subclasses\n",
        "`Circle` and `Rectangle` that implement the `area()` method\n"
      ],
      "metadata": {
        "id": "crQ59t_KAuU_"
      }
    },
    {
      "cell_type": "code",
      "source": [
        "import math as mt\n",
        "import numpy as np\n",
        "class shape:\n",
        "  def calculatearea(self):\n",
        "    pass\n",
        "class circle(shape):\n",
        "  def __init__(self,radius):\n",
        "      self.radius=radius\n",
        "  def calculatearea(self):\n",
        "    return mt.pi*self.radius**2\n",
        "\n",
        "class rectangle(shape):\n",
        "   def __init__(self,length,breadth):\n",
        "    self.length=length\n",
        "    self.breadth=breadth\n",
        "   def calculatearea(self):\n",
        "      return self.breadth*self.length\n",
        "\n",
        "rect=rectangle(3,4)\n",
        "c=circle(6)\n",
        "rectA=rect.calculatearea()\n",
        "cA=c.calculatearea()\n",
        "print(f\"area of rect is {rectA} \",rectA)\n",
        "print(f\"area of circle is {cA}\",cA)"
      ],
      "metadata": {
        "colab": {
          "base_uri": "https://localhost:8080/"
        },
        "id": "WOybObEXGb8o",
        "outputId": "db561704-8bcc-4f11-d4bb-f312c378ae5b"
      },
      "execution_count": null,
      "outputs": [
        {
          "output_type": "stream",
          "name": "stdout",
          "text": [
            "area of rect is 12  12\n",
            "area of circle is 113.09733552923255 113.09733552923255\n"
          ]
        }
      ]
    },
    {
      "cell_type": "markdown",
      "source": [
        "Q9. Demonstrate polymorphism by creating a function that can work with different shape objects to calculate\n",
        "and print their areas.\n"
      ],
      "metadata": {
        "id": "5zL1sTywKo2g"
      }
    },
    {
      "cell_type": "code",
      "source": [
        "import math as mt\n",
        "import numpy as np\n",
        "class shape:\n",
        "  def calculatearea(self):\n",
        "    pass\n",
        "class circle(shape):\n",
        "  def __init__(self,radius):\n",
        "      self.radius=radius\n",
        "  def calculatearea(self):\n",
        "    return mt.pi*self.radius**2\n",
        "\n",
        "class rectangle(shape):\n",
        "   def __init__(self,length,breadth):\n",
        "    self.length=length\n",
        "    self.breadth=breadth\n",
        "   def calculatearea(self):\n",
        "      return self.breadth*self.length\n",
        "\n",
        "rect=rectangle(3,4)\n",
        "c=circle(6)\n",
        "rectA=rect.calculatearea()# calculatearea is the same function name for circle and rectangle\n",
        "cA=c.calculatearea()\n",
        "print(f\"area of rect is {rectA} \",rectA)\n",
        "print(f\"area of circle is {cA}\",cA)"
      ],
      "metadata": {
        "id": "h2n5u_CeyvZe"
      },
      "execution_count": null,
      "outputs": []
    },
    {
      "cell_type": "markdown",
      "source": [
        "Q10. Implement encapsulation in a `BankAccount` class with private attributes for `balance` and\n",
        "`account_number`. Include methods for deposit, withdrawal, and balance inquiry\n"
      ],
      "metadata": {
        "id": "BtOQOXuD0PfE"
      }
    },
    {
      "cell_type": "code",
      "source": [
        "class bank:  # variable data decided by user\n",
        "  def __init__(self,balance,acn):\n",
        "    self.__balance=balance\n",
        "    self.__acn=acn\n",
        "\n",
        "\n",
        "  def displaydetails(self):\n",
        "    print(f\"bank balance is {self.__balance}\")\n",
        "    print(f\"account number is {self.__acn}\")\n",
        "print(\"balance and ac.no decided by user\")\n",
        "a=bank(5000,12345678)\n",
        "a.displaydetails()\n",
        "\n",
        "print(\"....................Encapsulation.........................\")\n",
        "\n",
        "class bank:  # preexisting data encapsulated, user data passed doesnt matter\n",
        "  def __init__(self,balance,acn,wd,dep):\n",
        "    self.__balance=6700\n",
        "    self.__acn=456789\n",
        "    self.wd=wd\n",
        "    self.dep=dep\n",
        "\n",
        "  def displaydetails(self):\n",
        "    print(f\"bank balance is {self.__balance}\")\n",
        "    print(f\"account number is {self.__acn}\")\n",
        "    print(f\"amount to be withdrawn is {self.wd}\")\n",
        "    print(f\"amount to be deposited is {self.dep}\")\n",
        "    b=self.__balance+self.dep-self.wd\n",
        "    print(f\"balance inquiry: available balance is {b}\")\n",
        "print(\"user data doesnt matter\")\n",
        "a=bank(5000,12345678,400,500)\n",
        "a.displaydetails()\n"
      ],
      "metadata": {
        "colab": {
          "base_uri": "https://localhost:8080/"
        },
        "id": "PACdjml91Xat",
        "outputId": "b86188ba-330b-428c-99f8-eb207e38404b"
      },
      "execution_count": null,
      "outputs": [
        {
          "output_type": "stream",
          "name": "stdout",
          "text": [
            "balance and ac.no decided by user\n",
            "bank balance is 5000\n",
            "account number is 12345678\n",
            "....................Encapsulation.........................\n",
            "user data doesnt matter\n",
            "bank balance is 6700\n",
            "account number is 456789\n",
            "amount to be withdrawn is 400\n",
            "amount to be deposited is 500\n",
            "balance inquiry: available balance is 6800\n"
          ]
        }
      ]
    },
    {
      "cell_type": "markdown",
      "source": [
        "Q11. Write a class that overrides the `__str__` and `__add__` magic methods. What will these methods allow\n",
        "you to do"
      ],
      "metadata": {
        "id": "GG7L_dGN89cg"
      }
    },
    {
      "cell_type": "code",
      "source": [
        "class dm:\n",
        "  def __init__(self,a):\n",
        "    self.a=a\n",
        "  def __add__(self,other):\n",
        "    return self.a + other.a\n",
        "o1=dm(7)\n",
        "o2=dm(3)\n",
        "o3=o1+o2\n",
        "print(\"example of __add__\")\n",
        "print(o3)\n",
        "\n",
        "print(\"...........................\")\n",
        "\n",
        "class emp:\n",
        "  def __init__(self,id,name):\n",
        "    self.name=name\n",
        "    self.id=id\n",
        "\n",
        "  def __str__(self):\n",
        "    return f\"employee id is {self.id} and employee name is {self.name}\"\n",
        "print(\"example of __str__\")\n",
        "p1=emp(45,\"yukta\")\n",
        "print(str(p1))"
      ],
      "metadata": {
        "colab": {
          "base_uri": "https://localhost:8080/"
        },
        "id": "k0isNwke9P21",
        "outputId": "5063f996-cf3c-462b-c565-ada9e862ca18"
      },
      "execution_count": null,
      "outputs": [
        {
          "output_type": "stream",
          "name": "stdout",
          "text": [
            "example of __add__\n",
            "10\n",
            "...........................\n",
            "example of __str__\n",
            "employee id is 45 and employee name is yukta\n"
          ]
        }
      ]
    },
    {
      "cell_type": "markdown",
      "source": [
        "Q 12. Create a decorator that measures and prints the execution time of a function."
      ],
      "metadata": {
        "id": "epqPrNs4DWfU"
      }
    },
    {
      "cell_type": "code",
      "source": [
        "from functools import wraps\n",
        "import time\n",
        "\n",
        "\n",
        "def timeit(func):\n",
        "    @wraps(func)\n",
        "    def timeit_wrapper(*args, **kwargs):\n",
        "        start_time = time.perf_counter()\n",
        "        result = func(*args, **kwargs)\n",
        "        end_time = time.perf_counter()\n",
        "        total_time = end_time - start_time\n",
        "        print(f'Function {func.__name__}{args} {kwargs} Took {total_time:.4f} seconds')\n",
        "        return result\n",
        "    return timeit_wrapper\n",
        "\n",
        "\n",
        "@timeit\n",
        "def calculate_something(num):\n",
        "    \"\"\"\n",
        "    Simple function that returns sum of all numbers up to the square of num.\n",
        "    \"\"\"\n",
        "    total = sum((x for x in range(0, num**2)))\n",
        "    return total\n",
        "\n",
        "if __name__ == '__main__':\n",
        "    calculate_something(10)\n",
        "    calculate_something(100)\n",
        "    calculate_something(1000)\n",
        "    calculate_something(5000)\n",
        "    calculate_something(10000)"
      ],
      "metadata": {
        "id": "D4DwrwxakFmL",
        "colab": {
          "base_uri": "https://localhost:8080/"
        },
        "outputId": "98906589-f9ca-41c3-a812-ff9f7f922519"
      },
      "execution_count": 27,
      "outputs": [
        {
          "output_type": "stream",
          "name": "stdout",
          "text": [
            "Function calculate_something(10,) {} Took 0.0000 seconds\n",
            "Function calculate_something(100,) {} Took 0.0017 seconds\n",
            "Function calculate_something(1000,) {} Took 0.0599 seconds\n",
            "Function calculate_something(5000,) {} Took 1.5633 seconds\n",
            "Function calculate_something(10000,) {} Took 6.0371 seconds\n"
          ]
        }
      ]
    },
    {
      "cell_type": "markdown",
      "source": [
        "Q 13.  Explain the concept of the Diamond Problem in multiple inheritance. How does Python resolve it\n",
        "\n",
        "Soln. Ambiguity that arises when class inherits from two or more classes.\n",
        "Python uses method resolution order(MRO)that ensures that class always preceded its parents and a parent precedes the other parent if its derived from it.The inheritance list order in last class decides the method it inherits. The first mentioned class is prefered over preceeding classes.\n",
        "\n"
      ],
      "metadata": {
        "id": "vXsGWYe9B2zo"
      }
    },
    {
      "cell_type": "markdown",
      "source": [
        "Q14. Write a class method that keeps track of the number of instances created from a class\n"
      ],
      "metadata": {
        "id": "bX4X8ycTGO7N"
      }
    },
    {
      "cell_type": "markdown",
      "source": [
        "class myclass:\n",
        "c=0\n",
        "\n",
        "def __init__(self,name):\n",
        "  self.name=name\n",
        "  myclass.c=myclass.c+1\n",
        "\n",
        "o1=myclass(\"dsf\")\n",
        "o2=myclass(\"gho\")\n",
        "o3=myclass(\"bnu\")\n",
        "o4=myclass(\"fdy\")\n",
        "print(f\"total instances are {c}\")"
      ],
      "metadata": {
        "id": "0EVBadSlG1xo"
      }
    },
    {
      "cell_type": "code",
      "source": [
        "class myclass:\n",
        "   c=0\n",
        "\n",
        "   def __init__(self,name):\n",
        "    self.name=name\n",
        "    myclass.c+=1\n",
        "\n",
        "o1=myclass(\"nm\")\n",
        "o2=myclass(\"lo\")\n",
        "o3=myclass(\"fgj\")\n",
        "o4=myclass(\"kol\")\n",
        "print(\"total instances \", myclass.c)\n"
      ],
      "metadata": {
        "colab": {
          "base_uri": "https://localhost:8080/"
        },
        "id": "qtzdjR3fHlp_",
        "outputId": "4c817397-245a-46b4-f03f-1f4ff5c2280a"
      },
      "execution_count": 9,
      "outputs": [
        {
          "output_type": "stream",
          "name": "stdout",
          "text": [
            "total instances  4\n"
          ]
        }
      ]
    },
    {
      "cell_type": "markdown",
      "source": [
        "Q 15.  Implement a static method in a class that checks if a given year is a leap year"
      ],
      "metadata": {
        "id": "Ku68obMdKFVx"
      }
    },
    {
      "cell_type": "code",
      "source": [
        "class y:\n",
        "\n",
        " def __init__(self,year):\n",
        "  self.year=year\n",
        "\n",
        " def is_leap(year):\n",
        "  leap=False\n",
        "  if year%400==0:\n",
        "    leap=True\n",
        "  elif year%4==0 and year%100!=0:\n",
        "    leap=True\n",
        "  return leap\n",
        "\n",
        "year=int(input(\"enter the year \"))\n",
        "print(is_leap(year))\n"
      ],
      "metadata": {
        "colab": {
          "base_uri": "https://localhost:8080/"
        },
        "id": "XbtC2vj6a3xg",
        "outputId": "c0940af3-52db-45c4-d235-6e42cc7f0370"
      },
      "execution_count": 43,
      "outputs": [
        {
          "output_type": "stream",
          "name": "stdout",
          "text": [
            "enter the year 2008\n",
            "True\n"
          ]
        }
      ]
    },
    {
      "cell_type": "code",
      "source": [],
      "metadata": {
        "id": "37Hu8U0BU14I"
      },
      "execution_count": null,
      "outputs": []
    }
  ]
}